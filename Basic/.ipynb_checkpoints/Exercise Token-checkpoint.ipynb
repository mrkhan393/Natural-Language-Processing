{
 "cells": [
  {
   "cell_type": "code",
   "execution_count": 3,
   "id": "ecf81984-fbfc-42a7-be30-ae8c17890839",
   "metadata": {},
   "outputs": [],
   "source": [
    "import spacy"
   ]
  },
  {
   "cell_type": "markdown",
   "id": "feb40fca-ed17-43f9-bfb8-a14ec4e6368a",
   "metadata": {},
   "source": [
    "# Extract URLS"
   ]
  },
  {
   "cell_type": "code",
   "execution_count": 9,
   "id": "034cd65d-a895-4d12-a4f5-034e89eacd41",
   "metadata": {},
   "outputs": [
    {
     "data": {
      "text/plain": [
       "['http://www.data.gov/',\n",
       " 'http://www.science',\n",
       " 'http://data.gov.uk/.',\n",
       " 'http://www3.norc.org/gss+website/',\n",
       " 'http://www.europeansocialsurvey.org/.']"
      ]
     },
     "execution_count": 9,
     "metadata": {},
     "output_type": "execute_result"
    }
   ],
   "source": [
    "nlp = spacy.load(\"en_core_web_sm\")\n",
    "\n",
    "doc = nlp('''\n",
    "Look for data to help you address the question. Governments are good\n",
    "sources because data from public research is often freely available. Good\n",
    "places to start include http://www.data.gov/, and http://www.science.\n",
    "gov/, and in the United Kingdom, http://data.gov.uk/.\n",
    "Two of my favorite data sets are the General Social Survey at http://www3.norc.org/gss+website/, \n",
    "and the European Social Survey at http://www.europeansocialsurvey.org/.\n",
    "          ''')\n",
    "\n",
    "urls = []\n",
    "for sentence in doc.sents:\n",
    "    for token in sentence:\n",
    "        if token.like_url:\n",
    "            urls.append(token.text)\n",
    "\n",
    "urls"
   ]
  },
  {
   "cell_type": "markdown",
   "id": "4a8057b9-4854-4e49-b444-bd912dbbe378",
   "metadata": {},
   "source": [
    "## or"
   ]
  },
  {
   "cell_type": "code",
   "execution_count": 41,
   "id": "9ca133c5-861c-4c97-86c5-e1019a2b4bdc",
   "metadata": {},
   "outputs": [
    {
     "data": {
      "text/plain": [
       "['http://www.data.gov/',\n",
       " 'http://www.science',\n",
       " 'http://data.gov.uk/.',\n",
       " 'http://www3.norc.org/gss+website/',\n",
       " 'http://www.europeansocialsurvey.org/.']"
      ]
     },
     "execution_count": 41,
     "metadata": {},
     "output_type": "execute_result"
    }
   ],
   "source": [
    "doc = nlp('''\n",
    "Look for data to help you address the question. Governments are good\n",
    "sources because data from public research is often freely available. Good\n",
    "places to start include http://www.data.gov/, and http://www.science.\n",
    "gov/, and in the United Kingdom, http://data.gov.uk/.\n",
    "Two of my favorite data sets are the General Social Survey at http://www3.norc.org/gss+website/, \n",
    "and the European Social Survey at http://www.europeansocialsurvey.org/.\n",
    "          ''')\n",
    "\n",
    "urls = [token.text for token in doc if token.like_url]\n",
    "urls"
   ]
  },
  {
   "cell_type": "markdown",
   "id": "4e3f5863-4d8e-4c0e-92c4-e9bf1de26b34",
   "metadata": {},
   "source": [
    "# Extract Transactions Amount with Currency"
   ]
  },
  {
   "cell_type": "code",
   "execution_count": 39,
   "id": "2aa40cf5-208b-4411-a16b-3f43a03ddf77",
   "metadata": {},
   "outputs": [
    {
     "data": {
      "text/plain": [
       "[two, $, 500, €]"
      ]
     },
     "execution_count": 39,
     "metadata": {},
     "output_type": "execute_result"
    }
   ],
   "source": [
    "nlp = spacy.load(\"en_core_web_sm\")\n",
    "\n",
    "doc = nlp(\"Tonye gave two $ to Peter, Bruce gave 500 € to Steve\")\n",
    "\n",
    "transaction = []\n",
    "for token in doc:\n",
    "    if token.like_num or token.is_currency:\n",
    "        transaction.append(token)\n",
    "\n",
    "transaction"
   ]
  },
  {
   "cell_type": "code",
   "execution_count": 40,
   "id": "aa7cb6cd-f840-46d6-8227-2580ccf673f4",
   "metadata": {},
   "outputs": [
    {
     "name": "stdout",
     "output_type": "stream",
     "text": [
      "[two, $]\n",
      "[500, €]\n"
     ]
    }
   ],
   "source": [
    "print(transaction[0:2])\n",
    "print(transaction[2:4])"
   ]
  },
  {
   "cell_type": "markdown",
   "id": "0ee0de74-7d5d-4b88-83d3-4b835551855e",
   "metadata": {},
   "source": [
    "## or"
   ]
  },
  {
   "cell_type": "code",
   "execution_count": 38,
   "id": "d242fc35-f3a3-4c64-8837-dcac1a543332",
   "metadata": {},
   "outputs": [
    {
     "name": "stdout",
     "output_type": "stream",
     "text": [
      "two $\n",
      "500 €\n"
     ]
    }
   ],
   "source": [
    "transactions = (\"Tonye gave two $ to Peter, Bruce gave 500 € to Steve\")\n",
    "doc = nlp(transactions)\n",
    "for token in doc:\n",
    "    if token.like_num and doc[token.i+1].is_currency:\n",
    "        print(token.text, doc[token.i+1].text)"
   ]
  },
  {
   "cell_type": "code",
   "execution_count": null,
   "id": "575a872e-760d-4590-9db6-5153e2d3b4a4",
   "metadata": {},
   "outputs": [],
   "source": []
  }
 ],
 "metadata": {
  "kernelspec": {
   "display_name": "Python 3 (ipykernel)",
   "language": "python",
   "name": "python3"
  },
  "language_info": {
   "codemirror_mode": {
    "name": "ipython",
    "version": 3
   },
   "file_extension": ".py",
   "mimetype": "text/x-python",
   "name": "python",
   "nbconvert_exporter": "python",
   "pygments_lexer": "ipython3",
   "version": "3.9.19"
  }
 },
 "nbformat": 4,
 "nbformat_minor": 5
}
