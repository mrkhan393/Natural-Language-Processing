{
 "cells": [
  {
   "cell_type": "code",
   "execution_count": 136,
   "id": "9abeb03c-260a-401b-8506-a22bb67af5b5",
   "metadata": {},
   "outputs": [
    {
     "data": {
      "text/plain": [
       "['tok2vec', 'tagger', 'parser', 'attribute_ruler', 'lemmatizer', 'ner']"
      ]
     },
     "execution_count": 136,
     "metadata": {},
     "output_type": "execute_result"
    }
   ],
   "source": [
    "import spacy\n",
    "import re\n",
    "\n",
    "nlp = spacy.load(\"en_core_web_sm\")\n",
    "nlp.pipe_names"
   ]
  },
  {
   "cell_type": "markdown",
   "id": "96263b38-4ff6-4881-a922-2455647f6911",
   "metadata": {
    "jp-MarkdownHeadingCollapsed": true
   },
   "source": [
    "# Extract all Locations"
   ]
  },
  {
   "cell_type": "code",
   "execution_count": 148,
   "id": "947a57b4-6b16-445a-83ab-dca58b6fb20a",
   "metadata": {},
   "outputs": [],
   "source": [
    "text = \"\"\"Kiran want to know the famous foods in each state of India. So, he opened Google and search for this question. Google showed that\n",
    "in Delhi it is Chaat, in Gujarat it is Dal Dhokli, in Tamilnadu it is Pongal, in Andhrapradesh it is Biryani, in Assam it is Papaya Khar,\n",
    "in Bihar it is Litti Chowkha and so on for all other states\"\"\"\n",
    "\n",
    "doc = nlp(text)"
   ]
  },
  {
   "cell_type": "code",
   "execution_count": 149,
   "id": "c1caa137-0cbc-4829-b846-7cc6079d509f",
   "metadata": {},
   "outputs": [],
   "source": [
    "locations = []\n",
    "for ent in doc.ents:\n",
    "    if ent.label_ in [\"GPE\"]:\n",
    "        locations.append(ent)"
   ]
  },
  {
   "cell_type": "code",
   "execution_count": 150,
   "id": "9d39301c-1124-4ce4-88d4-3c4e86ce6fd6",
   "metadata": {},
   "outputs": [
    {
     "name": "stdout",
     "output_type": "stream",
     "text": [
      "Geographical location Names:  [India, Delhi, Gujarat, Tamilnadu, Pongal, Andhrapradesh, Assam, Bihar]\n",
      "Count:  8\n"
     ]
    }
   ],
   "source": [
    "print(\"Geographical location Names: \", locations)\n",
    "print(\"Count: \", len(locations))"
   ]
  },
  {
   "cell_type": "code",
   "execution_count": 151,
   "id": "00b29a35-e2f7-48e3-bf4a-1343851dc76c",
   "metadata": {},
   "outputs": [
    {
     "data": {
      "text/plain": [
       "Pongal"
      ]
     },
     "execution_count": 151,
     "metadata": {},
     "output_type": "execute_result"
    }
   ],
   "source": [
    "doc[45]"
   ]
  },
  {
   "cell_type": "code",
   "execution_count": 154,
   "id": "760ae38d-207e-4784-8d25-c185fb99c76c",
   "metadata": {},
   "outputs": [],
   "source": [
    "from spacy.tokens import Span\n",
    "\n",
    "s1 = Span(doc, 45, 46, label=\"FOOD\")\n",
    "\n",
    "doc.set_ents([s1], default=\"unmodified\")"
   ]
  },
  {
   "cell_type": "code",
   "execution_count": 155,
   "id": "3c8a7b5b-bf04-45ee-ae7e-f57f436d1ca0",
   "metadata": {},
   "outputs": [
    {
     "name": "stdout",
     "output_type": "stream",
     "text": [
      "Geographical location Names:  [India, Delhi, Gujarat, Tamilnadu, Andhrapradesh, Assam, Bihar]\n",
      "Count:  7\n"
     ]
    }
   ],
   "source": [
    "locations = []\n",
    "for ent in doc.ents:\n",
    "    if ent.label_ in [\"GPE\"]:\n",
    "        locations.append(ent)\n",
    "\n",
    "print(\"Geographical location Names: \", locations)\n",
    "print(\"Count: \", len(locations))"
   ]
  },
  {
   "cell_type": "markdown",
   "id": "a4fd78bd-3ede-424e-9b0e-d78a563f12b4",
   "metadata": {
    "jp-MarkdownHeadingCollapsed": true
   },
   "source": [
    "# Extract All Birth Dates"
   ]
  },
  {
   "cell_type": "code",
   "execution_count": 132,
   "id": "c495beac-bdb5-4c57-baa3-b5df1e95c168",
   "metadata": {},
   "outputs": [],
   "source": [
    "text = \"\"\"Sachin Tendulkar was born on 24 April 1973, Virat Kholi was born on 5 November 1988, Dhoni was born on 7 July 1981\n",
    "and finally Ricky ponting was born on 19 December 1974.\"\"\"\n",
    "\n",
    "doc = nlp(text)"
   ]
  },
  {
   "cell_type": "code",
   "execution_count": 120,
   "id": "ea9bf780-e1af-4f61-96d5-1e01a693883c",
   "metadata": {},
   "outputs": [
    {
     "data": {
      "text/plain": [
       "['24 April 1973', '5 November 1988', '7 July 1981', '19 December 1974']"
      ]
     },
     "execution_count": 120,
     "metadata": {},
     "output_type": "execute_result"
    }
   ],
   "source": [
    "pattern = 'born on (\\d* \\w+ \\d*)'\n",
    "matches = re.findall(pattern, doc.text)\n",
    "matches"
   ]
  },
  {
   "cell_type": "code",
   "execution_count": 118,
   "id": "3c9ae3ab-e63a-49c6-9b28-c1dfc3f0900e",
   "metadata": {},
   "outputs": [
    {
     "name": "stdout",
     "output_type": "stream",
     "text": [
      "All Birth Date:  ['24 April 1973', '5 November 1988', '7 July 1981', '19 December 1974']\n",
      "Count:  4\n"
     ]
    }
   ],
   "source": [
    "birthdate = []\n",
    "count = 0\n",
    "for match in matches:\n",
    "    birthdate.append(match)\n",
    "    count=count+1\n",
    "    \n",
    "print(\"All Birth Date: \", birthdate)\n",
    "print(\"Count: \", count)"
   ]
  },
  {
   "cell_type": "markdown",
   "id": "13c50d38-5741-4464-9ea7-a3a13853db37",
   "metadata": {},
   "source": [
    "## or"
   ]
  },
  {
   "cell_type": "code",
   "execution_count": 134,
   "id": "fe52aa83-c488-4a28-9d64-5a3fcb36a9a3",
   "metadata": {},
   "outputs": [
    {
     "name": "stdout",
     "output_type": "stream",
     "text": [
      "All Birth Date:  [24 April 1973, 5 November 1988, 7 July 1981, 19 December 1974]\n",
      "Count:  4\n"
     ]
    }
   ],
   "source": [
    "allbirthdates = []\n",
    "for ent in doc.ents:\n",
    "    if ent.label_ in ['DATE']:\n",
    "       allbirthdates.append(ent)\n",
    "\n",
    "print(\"All Birth Date: \", allbirthdates)\n",
    "print(\"Count: \", len(allbirthdates))"
   ]
  },
  {
   "cell_type": "code",
   "execution_count": null,
   "id": "0158cdb7-1787-4b56-ae89-d10172b19b06",
   "metadata": {},
   "outputs": [],
   "source": []
  }
 ],
 "metadata": {
  "kernelspec": {
   "display_name": "Python 3 (ipykernel)",
   "language": "python",
   "name": "python3"
  },
  "language_info": {
   "codemirror_mode": {
    "name": "ipython",
    "version": 3
   },
   "file_extension": ".py",
   "mimetype": "text/x-python",
   "name": "python",
   "nbconvert_exporter": "python",
   "pygments_lexer": "ipython3",
   "version": "3.9.19"
  }
 },
 "nbformat": 4,
 "nbformat_minor": 5
}
