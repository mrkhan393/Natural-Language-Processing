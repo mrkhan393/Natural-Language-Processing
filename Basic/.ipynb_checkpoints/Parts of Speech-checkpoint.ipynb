{
 "cells": [
  {
   "cell_type": "code",
   "execution_count": 1,
   "id": "2e819490-54dd-4765-8813-2d6e33dae061",
   "metadata": {},
   "outputs": [],
   "source": [
    "import spacy"
   ]
  },
  {
   "cell_type": "code",
   "execution_count": 3,
   "id": "32bf02aa-1edf-4f15-92e3-956e1d50380a",
   "metadata": {},
   "outputs": [],
   "source": [
    "nlp = spacy.load(\"en_core_web_sm\")"
   ]
  },
  {
   "cell_type": "markdown",
   "id": "e1b58c5e-fdc9-4547-9b83-c33d7f8c81b1",
   "metadata": {
    "jp-MarkdownHeadingCollapsed": true
   },
   "source": [
    "# Parts of Speech"
   ]
  },
  {
   "cell_type": "code",
   "execution_count": 7,
   "id": "61c52888-202f-4d2d-9c7f-062d6ddfd987",
   "metadata": {},
   "outputs": [
    {
     "name": "stdout",
     "output_type": "stream",
     "text": [
      "Elon | PROPN | proper noun\n",
      "flew | VERB | verb\n",
      "to | ADP | adposition\n",
      "Mars | PROPN | proper noun\n",
      "yesterday | NOUN | noun\n",
      ". | PUNCT | punctuation\n",
      "He | PRON | pronoun\n",
      "carried | VERB | verb\n",
      "biryani | ADJ | adjective\n",
      "masala | NOUN | noun\n",
      "with | ADP | adposition\n",
      "him | PRON | pronoun\n"
     ]
    }
   ],
   "source": [
    "doc  = nlp(\"Elon flew to Mars yesterday. He carried biryani masala with him\")\n",
    "\n",
    "for token in doc:\n",
    "    print(token, \"|\", token.pos_, \"|\", spacy.explain(token.pos_))"
   ]
  },
  {
   "cell_type": "code",
   "execution_count": 13,
   "id": "ec587f17-1679-4a61-8fe4-76b5a29dc10a",
   "metadata": {},
   "outputs": [
    {
     "name": "stdout",
     "output_type": "stream",
     "text": [
      "Wow | INTJ | interjection | UH | interjection\n",
      "! | PUNCT | punctuation | . | punctuation mark, sentence closer\n",
      "Dr. | PROPN | proper noun | NNP | noun, proper singular\n",
      "Strange | PROPN | proper noun | NNP | noun, proper singular\n",
      "made | VERB | verb | VBD | verb, past tense\n",
      ", | PUNCT | punctuation | , | punctuation mark, comma\n",
      "265 | NUM | numeral | CD | cardinal number\n",
      "million | NUM | numeral | CD | cardinal number\n",
      "$ | NUM | numeral | CD | cardinal number\n",
      "on | ADP | adposition | IN | conjunction, subordinating or preposition\n",
      "the | DET | determiner | DT | determiner\n",
      "very | ADV | adverb | RB | adverb\n",
      "first | ADJ | adjective | JJ | adjective (English), other noun-modifier (Chinese)\n",
      "day | NOUN | noun | NN | noun, singular or mass\n"
     ]
    }
   ],
   "source": [
    "doc = nlp(\"Wow! Dr. Strange made, 265 million $ on the very first day\")\n",
    "\n",
    "for token in doc:\n",
    "    print(token, \"|\", token.pos_,\"|\", spacy.explain(token.pos_),\"|\", token.tag_, \"|\", spacy.explain(token.tag_))"
   ]
  },
  {
   "cell_type": "code",
   "execution_count": 14,
   "id": "06ddb8df-f775-45a1-bce5-e3adfc3ddaa0",
   "metadata": {},
   "outputs": [
    {
     "name": "stdout",
     "output_type": "stream",
     "text": [
      "He | PRON | pronoun | PRP | pronoun, personal\n",
      "quits | VERB | verb | VBZ | verb, 3rd person singular present\n",
      "the | DET | determiner | DT | determiner\n",
      "job | NOUN | noun | NN | noun, singular or mass\n"
     ]
    }
   ],
   "source": [
    "doc = nlp(\"He quits the job\")\n",
    "\n",
    "for token in doc:\n",
    "    print(token, \"|\", token.pos_,\"|\", spacy.explain(token.pos_),\"|\", token.tag_, \"|\", spacy.explain(token.tag_))"
   ]
  },
  {
   "cell_type": "code",
   "execution_count": 15,
   "id": "c5c58963-bf7d-4f04-a06f-a17c747b2668",
   "metadata": {},
   "outputs": [
    {
     "name": "stdout",
     "output_type": "stream",
     "text": [
      "He | PRON | pronoun | PRP | pronoun, personal\n",
      "quit | VERB | verb | VBD | verb, past tense\n",
      "the | DET | determiner | DT | determiner\n",
      "job | NOUN | noun | NN | noun, singular or mass\n"
     ]
    }
   ],
   "source": [
    "doc = nlp(\"He quit the job\")\n",
    "\n",
    "for token in doc:\n",
    "    print(token, \"|\", token.pos_,\"|\", spacy.explain(token.pos_),\"|\", token.tag_, \"|\", spacy.explain(token.tag_))"
   ]
  },
  {
   "cell_type": "markdown",
   "id": "bdd8e71c-8072-4271-af9b-ff62586d2d91",
   "metadata": {
    "jp-MarkdownHeadingCollapsed": true
   },
   "source": [
    "# Filter Token"
   ]
  },
  {
   "cell_type": "code",
   "execution_count": 18,
   "id": "f255b0c7-a339-4be5-8740-397ea87a6954",
   "metadata": {},
   "outputs": [],
   "source": [
    "earning_text = '''Microsoft Corp. today announced the following results for the quarter ended March 31, 2024, as compared to the corresponding period of last fiscal year:\n",
    "\n",
    "·        Revenue was $61.9 billion and increased 17%\n",
    "·        Operating income was $27.6 billion and increased 23%\n",
    "·        Net income was $21.9 billion and increased 20%\n",
    "·        Diluted earnings per share was $2.94 and increased 20%\n",
    "“Microsoft Copilot and Copilot stack are orchestrating a new era of AI transformation, etc. driving better business outcomes across every role and industry,\" said Satya Nadella, chairman and chief executive officer of Microsoft.'''"
   ]
  },
  {
   "cell_type": "code",
   "execution_count": 19,
   "id": "65f3836a-4a43-4a13-9c8b-0f52ef8b23d2",
   "metadata": {
    "scrolled": true
   },
   "outputs": [
    {
     "name": "stdout",
     "output_type": "stream",
     "text": [
      "Microsoft | PROPN | proper noun\n",
      "Corp. | PROPN | proper noun\n",
      "today | NOUN | noun\n",
      "announced | VERB | verb\n",
      "the | DET | determiner\n",
      "following | VERB | verb\n",
      "results | NOUN | noun\n",
      "for | ADP | adposition\n",
      "the | DET | determiner\n",
      "quarter | NOUN | noun\n",
      "ended | VERB | verb\n",
      "March | PROPN | proper noun\n",
      "31 | NUM | numeral\n",
      ", | PUNCT | punctuation\n",
      "2024 | NUM | numeral\n",
      ", | PUNCT | punctuation\n",
      "as | SCONJ | subordinating conjunction\n",
      "compared | VERB | verb\n",
      "to | ADP | adposition\n",
      "the | DET | determiner\n",
      "corresponding | ADJ | adjective\n",
      "period | NOUN | noun\n",
      "of | ADP | adposition\n",
      "last | ADJ | adjective\n",
      "fiscal | ADJ | adjective\n",
      "year | NOUN | noun\n",
      ": | PUNCT | punctuation\n",
      "\n",
      "\n",
      " | SPACE | space\n",
      "· | PUNCT | punctuation\n",
      "        | SPACE | space\n",
      "Revenue | NOUN | noun\n",
      "was | AUX | auxiliary\n",
      "$ | SYM | symbol\n",
      "61.9 | NUM | numeral\n",
      "billion | NUM | numeral\n",
      "and | CCONJ | coordinating conjunction\n",
      "increased | VERB | verb\n",
      "17 | NUM | numeral\n",
      "% | NOUN | noun\n",
      "\n",
      " | SPACE | space\n",
      "· | PUNCT | punctuation\n",
      "        | SPACE | space\n",
      "Operating | VERB | verb\n",
      "income | NOUN | noun\n",
      "was | AUX | auxiliary\n",
      "$ | SYM | symbol\n",
      "27.6 | NUM | numeral\n",
      "billion | NUM | numeral\n",
      "and | CCONJ | coordinating conjunction\n",
      "increased | VERB | verb\n",
      "23 | NUM | numeral\n",
      "% | NOUN | noun\n",
      "\n",
      " | SPACE | space\n",
      "· | PUNCT | punctuation\n",
      "        | SPACE | space\n",
      "Net | ADJ | adjective\n",
      "income | NOUN | noun\n",
      "was | AUX | auxiliary\n",
      "$ | SYM | symbol\n",
      "21.9 | NUM | numeral\n",
      "billion | NUM | numeral\n",
      "and | CCONJ | coordinating conjunction\n",
      "increased | VERB | verb\n",
      "20 | NUM | numeral\n",
      "% | NOUN | noun\n",
      "\n",
      " | SPACE | space\n",
      "· | PUNCT | punctuation\n",
      "        | SPACE | space\n",
      "Diluted | VERB | verb\n",
      "earnings | NOUN | noun\n",
      "per | ADP | adposition\n",
      "share | NOUN | noun\n",
      "was | AUX | auxiliary\n",
      "$ | SYM | symbol\n",
      "2.94 | NUM | numeral\n",
      "and | CCONJ | coordinating conjunction\n",
      "increased | VERB | verb\n",
      "20 | NUM | numeral\n",
      "% | NOUN | noun\n",
      "\n",
      " | SPACE | space\n",
      "“ | PUNCT | punctuation\n",
      "Microsoft | PROPN | proper noun\n",
      "Copilot | PROPN | proper noun\n",
      "and | CCONJ | coordinating conjunction\n",
      "Copilot | NOUN | noun\n",
      "stack | NOUN | noun\n",
      "are | AUX | auxiliary\n",
      "orchestrating | VERB | verb\n",
      "a | DET | determiner\n",
      "new | ADJ | adjective\n",
      "era | NOUN | noun\n",
      "of | ADP | adposition\n",
      "AI | PROPN | proper noun\n",
      "transformation | NOUN | noun\n",
      ", | PUNCT | punctuation\n",
      "etc | X | other\n",
      ". | X | other\n",
      "driving | VERB | verb\n",
      "better | ADJ | adjective\n",
      "business | NOUN | noun\n",
      "outcomes | NOUN | noun\n",
      "across | ADP | adposition\n",
      "every | DET | determiner\n",
      "role | NOUN | noun\n",
      "and | CCONJ | coordinating conjunction\n",
      "industry | NOUN | noun\n",
      ", | PUNCT | punctuation\n",
      "\" | PUNCT | punctuation\n",
      "said | VERB | verb\n",
      "Satya | PROPN | proper noun\n",
      "Nadella | PROPN | proper noun\n",
      ", | PUNCT | punctuation\n",
      "chairman | NOUN | noun\n",
      "and | CCONJ | coordinating conjunction\n",
      "chief | ADJ | adjective\n",
      "executive | ADJ | adjective\n",
      "officer | NOUN | noun\n",
      "of | ADP | adposition\n",
      "Microsoft | PROPN | proper noun\n",
      ". | PUNCT | punctuation\n"
     ]
    }
   ],
   "source": [
    "doc = nlp(earning_text)\n",
    "\n",
    "for token in doc:\n",
    "    print(token, \"|\", token.pos_,\"|\", spacy.explain(token.pos_))"
   ]
  },
  {
   "cell_type": "code",
   "execution_count": 23,
   "id": "880f67fb-8f34-4686-ad16-145ebd66d834",
   "metadata": {
    "scrolled": true
   },
   "outputs": [
    {
     "data": {
      "text/plain": [
       "[Microsoft,\n",
       " Corp.,\n",
       " today,\n",
       " announced,\n",
       " the,\n",
       " following,\n",
       " results,\n",
       " for,\n",
       " the,\n",
       " quarter,\n",
       " ended,\n",
       " March,\n",
       " 31,\n",
       " 2024,\n",
       " as,\n",
       " compared,\n",
       " to,\n",
       " the,\n",
       " corresponding,\n",
       " period,\n",
       " of,\n",
       " last,\n",
       " fiscal,\n",
       " year,\n",
       " Revenue,\n",
       " was,\n",
       " $,\n",
       " 61.9,\n",
       " billion,\n",
       " and,\n",
       " increased,\n",
       " 17,\n",
       " %,\n",
       " Operating,\n",
       " income,\n",
       " was,\n",
       " $,\n",
       " 27.6,\n",
       " billion,\n",
       " and,\n",
       " increased,\n",
       " 23,\n",
       " %,\n",
       " Net,\n",
       " income,\n",
       " was,\n",
       " $,\n",
       " 21.9,\n",
       " billion,\n",
       " and,\n",
       " increased,\n",
       " 20,\n",
       " %,\n",
       " Diluted,\n",
       " earnings,\n",
       " per,\n",
       " share,\n",
       " was,\n",
       " $,\n",
       " 2.94,\n",
       " and,\n",
       " increased,\n",
       " 20,\n",
       " %,\n",
       " Microsoft,\n",
       " Copilot,\n",
       " and,\n",
       " Copilot,\n",
       " stack,\n",
       " are,\n",
       " orchestrating,\n",
       " a,\n",
       " new,\n",
       " era,\n",
       " of,\n",
       " AI,\n",
       " transformation,\n",
       " driving,\n",
       " better,\n",
       " business,\n",
       " outcomes,\n",
       " across,\n",
       " every,\n",
       " role,\n",
       " and,\n",
       " industry,\n",
       " said,\n",
       " Satya,\n",
       " Nadella,\n",
       " chairman,\n",
       " and,\n",
       " chief,\n",
       " executive,\n",
       " officer,\n",
       " of,\n",
       " Microsoft]"
      ]
     },
     "execution_count": 23,
     "metadata": {},
     "output_type": "execute_result"
    }
   ],
   "source": [
    "doc = nlp(earning_text)\n",
    "\n",
    "\n",
    "filtered_tokens = []\n",
    "for token in doc:\n",
    "    if token.pos_ not in [\"SPACE\", \"X\", \"PUNCT\"]:\n",
    "        filtered_tokens.append(token)\n",
    "\n",
    "filtered_tokens"
   ]
  },
  {
   "cell_type": "markdown",
   "id": "225e1f25-4449-4e6e-acb8-872f37f9265d",
   "metadata": {
    "jp-MarkdownHeadingCollapsed": true
   },
   "source": [
    "# Count parts of speech"
   ]
  },
  {
   "cell_type": "code",
   "execution_count": 24,
   "id": "fa53f536-f087-4de8-8cf1-aeba3b84cb16",
   "metadata": {},
   "outputs": [
    {
     "data": {
      "text/plain": [
       "{96: 9,\n",
       " 92: 24,\n",
       " 100: 13,\n",
       " 90: 5,\n",
       " 85: 7,\n",
       " 93: 13,\n",
       " 97: 13,\n",
       " 98: 1,\n",
       " 84: 8,\n",
       " 103: 9,\n",
       " 87: 5,\n",
       " 99: 4,\n",
       " 89: 7,\n",
       " 101: 2}"
      ]
     },
     "execution_count": 24,
     "metadata": {},
     "output_type": "execute_result"
    }
   ],
   "source": [
    "count = doc.count_by(spacy.attrs.POS)\n",
    "count"
   ]
  },
  {
   "cell_type": "code",
   "execution_count": 28,
   "id": "379a75f6-5dda-4ec5-b1c2-616da15dae08",
   "metadata": {},
   "outputs": [
    {
     "name": "stdout",
     "output_type": "stream",
     "text": [
      "PROPN | 9\n",
      "NOUN | 24\n",
      "VERB | 13\n",
      "DET | 5\n",
      "ADP | 7\n",
      "NUM | 13\n",
      "PUNCT | 13\n",
      "SCONJ | 1\n",
      "ADJ | 8\n",
      "SPACE | 9\n",
      "AUX | 5\n",
      "SYM | 4\n",
      "CCONJ | 7\n",
      "X | 2\n"
     ]
    }
   ],
   "source": [
    "for k,v in count.items():\n",
    "    print(doc.vocab[k].text, \"|\", v)"
   ]
  },
  {
   "cell_type": "code",
   "execution_count": null,
   "id": "1820109a-a1df-43c8-97d9-2e804ce4ebbd",
   "metadata": {},
   "outputs": [],
   "source": []
  }
 ],
 "metadata": {
  "kernelspec": {
   "display_name": "Python 3 (ipykernel)",
   "language": "python",
   "name": "python3"
  },
  "language_info": {
   "codemirror_mode": {
    "name": "ipython",
    "version": 3
   },
   "file_extension": ".py",
   "mimetype": "text/x-python",
   "name": "python",
   "nbconvert_exporter": "python",
   "pygments_lexer": "ipython3",
   "version": "3.9.19"
  }
 },
 "nbformat": 4,
 "nbformat_minor": 5
}
