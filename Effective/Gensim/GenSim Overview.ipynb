{
 "cells": [
  {
   "cell_type": "markdown",
   "id": "5b278efa-a8cf-4752-9248-1193db74387d",
   "metadata": {
    "jp-MarkdownHeadingCollapsed": true
   },
   "source": [
    "# Word2Vec Google News 300"
   ]
  },
  {
   "cell_type": "code",
   "execution_count": 1,
   "id": "3d05d568-96aa-4cec-bc42-0ccee2191ec0",
   "metadata": {
    "scrolled": true
   },
   "outputs": [],
   "source": [
    "import gensim.downloader as api\n",
    "\n",
    "wv = api.load('word2vec-google-news-300')"
   ]
  },
  {
   "cell_type": "code",
   "execution_count": 2,
   "id": "fb3c47d7-21e8-4af1-a60a-f91f2e67a6e3",
   "metadata": {},
   "outputs": [
    {
     "data": {
      "text/plain": [
       "0.4098271"
      ]
     },
     "execution_count": 2,
     "metadata": {},
     "output_type": "execute_result"
    }
   ],
   "source": [
    "wv.similarity(w1=\"great\", w2=\"well\")"
   ]
  },
  {
   "cell_type": "code",
   "execution_count": 3,
   "id": "c05d6081-4221-467e-8da9-d077f1bf3b81",
   "metadata": {},
   "outputs": [
    {
     "data": {
      "text/plain": [
       "0.34199455"
      ]
     },
     "execution_count": 3,
     "metadata": {},
     "output_type": "execute_result"
    }
   ],
   "source": [
    "wv.similarity(w1=\"profit\", w2=\"loss\")"
   ]
  },
  {
   "cell_type": "code",
   "execution_count": 4,
   "id": "27ba123f-39c3-4892-b955-0fbe58c08213",
   "metadata": {},
   "outputs": [
    {
     "data": {
      "text/plain": [
       "[('cats', 0.8099379539489746),\n",
       " ('dog', 0.760945737361908),\n",
       " ('kitten', 0.7464985251426697),\n",
       " ('feline', 0.7326234579086304),\n",
       " ('beagle', 0.7150582671165466),\n",
       " ('puppy', 0.7075453400611877),\n",
       " ('pup', 0.6934291124343872),\n",
       " ('pet', 0.6891531348228455),\n",
       " ('felines', 0.6755931973457336),\n",
       " ('chihuahua', 0.6709762215614319)]"
      ]
     },
     "execution_count": 4,
     "metadata": {},
     "output_type": "execute_result"
    }
   ],
   "source": [
    "wv.most_similar(\"cat\")"
   ]
  },
  {
   "cell_type": "code",
   "execution_count": 16,
   "id": "78b8b355-cc82-4613-8049-6d64ae138584",
   "metadata": {},
   "outputs": [],
   "source": [
    "# king - man + woman = Queen\n",
    "# France - Paris + Berlin = Germany"
   ]
  },
  {
   "cell_type": "code",
   "execution_count": 6,
   "id": "23942136-8bc7-472a-b28f-517f25b26c9f",
   "metadata": {},
   "outputs": [
    {
     "data": {
      "text/plain": [
       "[('queen', 0.7118193507194519),\n",
       " ('monarch', 0.6189674139022827),\n",
       " ('princess', 0.5902431011199951),\n",
       " ('crown_prince', 0.5499460697174072),\n",
       " ('prince', 0.5377321839332581),\n",
       " ('kings', 0.5236844420433044),\n",
       " ('Queen_Consort', 0.5235945582389832),\n",
       " ('queens', 0.5181134343147278),\n",
       " ('sultan', 0.5098593831062317),\n",
       " ('monarchy', 0.5087411999702454)]"
      ]
     },
     "execution_count": 6,
     "metadata": {},
     "output_type": "execute_result"
    }
   ],
   "source": [
    "wv.most_similar(positive=[\"king\", \"woman\"], negative=[\"man\"])"
   ]
  },
  {
   "cell_type": "code",
   "execution_count": 7,
   "id": "8faadc56-a580-4678-aa3b-afe81dc30e79",
   "metadata": {},
   "outputs": [
    {
     "data": {
      "text/plain": [
       "'microsoft'"
      ]
     },
     "execution_count": 7,
     "metadata": {},
     "output_type": "execute_result"
    }
   ],
   "source": [
    "wv.doesnt_match([\"dog\", \"cat\", \"lion\", \"microsoft\"])"
   ]
  },
  {
   "cell_type": "markdown",
   "id": "e013deea-3d30-4fa4-9c6a-fdc128f3b038",
   "metadata": {
    "jp-MarkdownHeadingCollapsed": true
   },
   "source": [
    "# Golve Twitter 25"
   ]
  },
  {
   "cell_type": "code",
   "execution_count": 8,
   "id": "d44ee8e5-ac65-4c12-8705-8bb16de3322d",
   "metadata": {},
   "outputs": [
    {
     "name": "stdout",
     "output_type": "stream",
     "text": [
      "[==================================================] 100.0% 104.8/104.8MB downloaded\n"
     ]
    }
   ],
   "source": [
    "glv = api.load(\"glove-twitter-25\")"
   ]
  },
  {
   "cell_type": "code",
   "execution_count": 9,
   "id": "107b28f0-4b84-42c3-ac03-be10976c7607",
   "metadata": {},
   "outputs": [
    {
     "data": {
      "text/plain": [
       "[('nikola', 0.8904832601547241),\n",
       " ('hartmann', 0.8798294067382812),\n",
       " ('strunk', 0.879176139831543),\n",
       " ('ice-t', 0.8784680366516113),\n",
       " ('hefner', 0.8749244809150696),\n",
       " ('safdar', 0.8681180477142334),\n",
       " ('o’hara', 0.8664085268974304),\n",
       " ('dejesus', 0.8610486388206482),\n",
       " ('corning', 0.8586575984954834),\n",
       " ('laverne', 0.858246922492981)]"
      ]
     },
     "execution_count": 9,
     "metadata": {},
     "output_type": "execute_result"
    }
   ],
   "source": [
    "glv.most_similar(\"musk\")"
   ]
  },
  {
   "cell_type": "code",
   "execution_count": 15,
   "id": "585c341a-2f34-4935-9064-64251dcb7cc7",
   "metadata": {},
   "outputs": [
    {
     "data": {
      "text/plain": [
       "'human'"
      ]
     },
     "execution_count": 15,
     "metadata": {},
     "output_type": "execute_result"
    }
   ],
   "source": [
    "glv.doesnt_match(\"breakfast careal dinner human\".split())"
   ]
  },
  {
   "cell_type": "code",
   "execution_count": null,
   "id": "72bfb3db-32fe-4eb5-a0cb-4dfcf75f8620",
   "metadata": {},
   "outputs": [],
   "source": []
  }
 ],
 "metadata": {
  "kernelspec": {
   "display_name": "Python 3 (ipykernel)",
   "language": "python",
   "name": "python3"
  },
  "language_info": {
   "codemirror_mode": {
    "name": "ipython",
    "version": 3
   },
   "file_extension": ".py",
   "mimetype": "text/x-python",
   "name": "python",
   "nbconvert_exporter": "python",
   "pygments_lexer": "ipython3",
   "version": "3.12.2"
  }
 },
 "nbformat": 4,
 "nbformat_minor": 5
}
