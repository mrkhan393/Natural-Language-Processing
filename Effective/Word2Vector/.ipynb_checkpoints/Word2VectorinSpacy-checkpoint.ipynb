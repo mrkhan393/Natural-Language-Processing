{
 "cells": [
  {
   "cell_type": "markdown",
   "id": "218c0c7d-b9bc-4fce-9a7a-b1c98b318ef3",
   "metadata": {},
   "source": [
    "# Word2Vector "
   ]
  },
  {
   "cell_type": "code",
   "execution_count": 1,
   "id": "a0da441b-b74a-4284-80a9-f3d445fedd06",
   "metadata": {},
   "outputs": [],
   "source": [
    "import spacy\n",
    "\n",
    "nlp = spacy.load(\"en_core_web_lg\")"
   ]
  },
  {
   "cell_type": "markdown",
   "id": "2bf3921c-b823-4dcc-88a4-86eccc4ac602",
   "metadata": {},
   "source": [
    "## Has vector and out of verb (OOV)"
   ]
  },
  {
   "cell_type": "code",
   "execution_count": 4,
   "id": "882d9679-0661-474f-85c7-7ae3586d083c",
   "metadata": {},
   "outputs": [
    {
     "name": "stdout",
     "output_type": "stream",
     "text": [
      "dog Vector:  True OOV:  False\n",
      "cat Vector:  True OOV:  False\n",
      "banana Vector:  True OOV:  False\n",
      "askfdsd Vector:  False OOV:  True\n"
     ]
    }
   ],
   "source": [
    "doc = nlp(\"dog cat banana askfdsd\")\n",
    "\n",
    "for token in doc:\n",
    "    print(token.text, \"Vector: \", token.has_vector, \"OOV: \", token.is_oov)"
   ]
  },
  {
   "cell_type": "code",
   "execution_count": 7,
   "id": "2c8f08ef-0c27-4822-a123-a78dd5611b8f",
   "metadata": {
    "scrolled": true
   },
   "outputs": [
    {
     "data": {
      "text/plain": [
       "(300,)"
      ]
     },
     "execution_count": 7,
     "metadata": {},
     "output_type": "execute_result"
    }
   ],
   "source": [
    "doc[0].vector.shape"
   ]
  },
  {
   "cell_type": "markdown",
   "id": "5bc3ef54-37d7-40b1-b82e-200f4ad7abe7",
   "metadata": {},
   "source": [
    "## SImilarity"
   ]
  },
  {
   "cell_type": "code",
   "execution_count": 9,
   "id": "d60771e0-e926-4e91-b5ea-98e0db31719d",
   "metadata": {},
   "outputs": [
    {
     "data": {
      "text/plain": [
       "(300,)"
      ]
     },
     "execution_count": 9,
     "metadata": {},
     "output_type": "execute_result"
    }
   ],
   "source": [
    "based_token = nlp(\"bread\")\n",
    "based_token[0].vector.shape"
   ]
  },
  {
   "cell_type": "code",
   "execution_count": 11,
   "id": "69b5f78b-83bc-482b-8f8f-5ed9e3e6305b",
   "metadata": {},
   "outputs": [
    {
     "name": "stdout",
     "output_type": "stream",
     "text": [
      "sandwich <-> bread 0.634106782477101\n",
      "burger <-> bread 0.4752069113758708\n",
      "car <-> bread 0.06451533308853552\n",
      "tiger <-> bread 0.04764611675903374\n",
      "human <-> bread 0.2151154210812192\n",
      "wheat <-> bread 0.6150360888607199\n"
     ]
    }
   ],
   "source": [
    "doc = nlp(\"sandwich burger car tiger human wheat\")\n",
    "\n",
    "for token in doc:\n",
    "    print(f\"{token.text} <-> {base_token.text}\", token.similarity(base_token))"
   ]
  },
  {
   "cell_type": "markdown",
   "id": "96957eba-f7fe-4514-b6dc-90fb150af5e1",
   "metadata": {},
   "source": [
    "# Function to print similarity"
   ]
  },
  {
   "cell_type": "code",
   "execution_count": 12,
   "id": "0da89b2a-9888-49f4-b4c1-eef9ecbc96cd",
   "metadata": {},
   "outputs": [],
   "source": [
    "def print_similarity(base_word, words_to_compare):\n",
    "    base_token = nlp(base_word)\n",
    "    doc = nlp(words_to_compare)\n",
    "    for token in doc:\n",
    "        print(F\"{token.text} <-> {base_token.text}: \", token.similarity(base_token))"
   ]
  },
  {
   "cell_type": "code",
   "execution_count": 13,
   "id": "e44408bc-ce8c-4c3d-a078-3fb271d9dd36",
   "metadata": {},
   "outputs": [
    {
     "name": "stdout",
     "output_type": "stream",
     "text": [
      "apple <-> Iphone:  0.3093740655021613\n",
      "samsung <-> Iphone:  0.6208885691838532\n",
      "iphone <-> Iphone:  0.8963245812463251\n",
      "dog <-> Iphone:  0.059013340263555654\n",
      "kitten <-> Iphone:  0.07024215992099864\n"
     ]
    }
   ],
   "source": [
    "print_similarity(\"Iphone\", \"apple samsung iphone dog kitten\")"
   ]
  },
  {
   "cell_type": "markdown",
   "id": "a36eb819-561b-414f-adb3-46f49c06237c",
   "metadata": {},
   "source": [
    "# Cosine Similarity"
   ]
  },
  {
   "cell_type": "code",
   "execution_count": 15,
   "id": "8c136c9b-d4b5-4d93-92fe-1ca11e3de94a",
   "metadata": {},
   "outputs": [],
   "source": [
    "king = nlp.vocab[\"King\"].vector\n",
    "man = nlp.vocab[\"man\"].vector\n",
    "woman = nlp.vocab[\"woman\"].vector\n",
    "queen = nlp.vocab[\"queen\"].vector\n",
    "\n",
    "result = king-man+woman"
   ]
  },
  {
   "cell_type": "code",
   "execution_count": 16,
   "id": "b712a011-0bd0-4cbf-aa7f-d228258cceaa",
   "metadata": {},
   "outputs": [
    {
     "data": {
      "text/plain": [
       "array([[0.43668598]], dtype=float32)"
      ]
     },
     "execution_count": 16,
     "metadata": {},
     "output_type": "execute_result"
    }
   ],
   "source": [
    "from sklearn.metrics.pairwise import cosine_similarity\n",
    "\n",
    "cosine_similarity([result], [queen])"
   ]
  },
  {
   "cell_type": "code",
   "execution_count": null,
   "id": "456415f3-5096-4179-a68e-ed1cda2a9f37",
   "metadata": {},
   "outputs": [],
   "source": []
  }
 ],
 "metadata": {
  "kernelspec": {
   "display_name": "Python 3 (ipykernel)",
   "language": "python",
   "name": "python3"
  },
  "language_info": {
   "codemirror_mode": {
    "name": "ipython",
    "version": 3
   },
   "file_extension": ".py",
   "mimetype": "text/x-python",
   "name": "python",
   "nbconvert_exporter": "python",
   "pygments_lexer": "ipython3",
   "version": "3.9.19"
  }
 },
 "nbformat": 4,
 "nbformat_minor": 5
}
